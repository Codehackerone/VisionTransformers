{
  "cells": [
    {
      "cell_type": "markdown",
      "metadata": {
        "id": "view-in-github",
        "colab_type": "text"
      },
      "source": [
        "<a href=\"https://colab.research.google.com/github/Codehackerone/VisionTransformers/blob/main/Vision_Transformer_TF2_3.ipynb\" target=\"_parent\"><img src=\"https://colab.research.google.com/assets/colab-badge.svg\" alt=\"Open In Colab\"/></a>"
      ]
    },
    {
      "cell_type": "code",
      "source": [
        "!pip install tensorflow-addons"
      ],
      "metadata": {
        "colab": {
          "base_uri": "https://localhost:8080/"
        },
        "id": "Pq5FKUqmzlFn",
        "outputId": "d4136af5-4c58-4e0d-9cf8-14b9ed700112"
      },
      "execution_count": 1,
      "outputs": [
        {
          "output_type": "stream",
          "name": "stdout",
          "text": [
            "Looking in indexes: https://pypi.org/simple, https://us-python.pkg.dev/colab-wheels/public/simple/\n",
            "Collecting tensorflow-addons\n",
            "  Downloading tensorflow_addons-0.17.0-cp37-cp37m-manylinux_2_17_x86_64.manylinux2014_x86_64.whl (1.1 MB)\n",
            "\u001b[K     |████████████████████████████████| 1.1 MB 36.3 MB/s \n",
            "\u001b[?25hRequirement already satisfied: packaging in /usr/local/lib/python3.7/dist-packages (from tensorflow-addons) (21.3)\n",
            "Requirement already satisfied: typeguard>=2.7 in /usr/local/lib/python3.7/dist-packages (from tensorflow-addons) (2.7.1)\n",
            "Requirement already satisfied: pyparsing!=3.0.5,>=2.0.2 in /usr/local/lib/python3.7/dist-packages (from packaging->tensorflow-addons) (3.0.9)\n",
            "Installing collected packages: tensorflow-addons\n",
            "Successfully installed tensorflow-addons-0.17.0\n"
          ]
        }
      ]
    },
    {
      "cell_type": "code",
      "execution_count": 2,
      "metadata": {
        "id": "6LdPsk_nq5W4"
      },
      "outputs": [],
      "source": [
        "import tensorflow as tf\n",
        "import tensorflow_addons as tfa\n",
        "from tensorflow.keras.layers import Dense, Dropout, LayerNormalization\n",
        "from tensorflow.keras.layers.experimental.preprocessing import Rescaling\n",
        "import os\n",
        "import numpy as np\n",
        "\n",
        "import tensorflow as tf\n",
        "import tensorflow_addons as tfa\n",
        "import tensorflow_datasets as tfds\n",
        "\n",
        "from tensorflow.keras.callbacks import TensorBoard"
      ]
    },
    {
      "cell_type": "code",
      "execution_count": 3,
      "metadata": {
        "id": "JY3ik-6Iq5W7"
      },
      "outputs": [],
      "source": [
        "class MultiHeadSelfAttention(tf.keras.layers.Layer):\n",
        "    def __init__(self, embed_dim, num_heads=8):\n",
        "        super(MultiHeadSelfAttention, self).__init__()\n",
        "        self.embed_dim = embed_dim\n",
        "        self.num_heads = num_heads\n",
        "        if embed_dim % num_heads != 0:\n",
        "            raise ValueError(\n",
        "                f\"embedding dimension = {embed_dim} should be divisible by number of heads = {num_heads}\"\n",
        "            )\n",
        "        self.projection_dim = embed_dim // num_heads\n",
        "        #attention takes three inputs: queries, keys, and values,\n",
        "        self.query_dense = Dense(embed_dim)\n",
        "        self.key_dense = Dense(embed_dim)\n",
        "        self.value_dense = Dense(embed_dim)\n",
        "        self.combine_heads = Dense(embed_dim)\n",
        "\n",
        "    def attention(self, query, key, value):\n",
        "        #use the product between the queries and the keys \n",
        "        #to know \"how much\" each element is the sequence is important with the rest\n",
        "        score = tf.matmul(query, key, transpose_b=True)\n",
        "        dim_key = tf.cast(tf.shape(key)[-1], tf.float32)\n",
        "        #resulting vector, score is divided by a scaling factor based on the size of the embedding\n",
        "        #scaling fcator is square root of the embeding dimension\n",
        "        scaled_score = score / tf.math.sqrt(dim_key)\n",
        "        #the attention scaled_score is then softmaxed\n",
        "        weights = tf.nn.softmax(scaled_score, axis=-1)\n",
        "        #Attention(Q, K, V ) = softmax[(QK)/√dim_key]V\n",
        "        output = tf.matmul(weights, value)\n",
        "        return output, weights\n",
        "\n",
        "    def separate_heads(self, x, batch_size):\n",
        "        x = tf.reshape(\n",
        "            x, (batch_size, -1, self.num_heads, self.projection_dim)\n",
        "        )\n",
        "        return tf.transpose(x, perm=[0, 2, 1, 3])\n",
        "\n",
        "    def call(self, inputs):\n",
        "         \n",
        "        batch_size = tf.shape(inputs)[0]\n",
        "        #MSA takes the queries, keys, and values  as input from the previous layer \n",
        "        #and projects them using the three linear layers.\n",
        "        query = self.query_dense(inputs)\n",
        "        key = self.key_dense(inputs)\n",
        "        value = self.value_dense(inputs)\n",
        "        query = self.separate_heads(query, batch_size)\n",
        "        key = self.separate_heads(key, batch_size)\n",
        "        value = self.separate_heads(value, batch_size)\n",
        "\n",
        "        attention, weights = self.attention(query, key, value)\n",
        "        attention = tf.transpose(attention, perm=[0, 2, 1, 3])\n",
        "        concat_attention = tf.reshape(\n",
        "            attention, (batch_size, -1, self.embed_dim)\n",
        "        )\n",
        "        #self attention of different heads are concatenated  \n",
        "        output = self.combine_heads(concat_attention)\n",
        "        return output\n"
      ]
    },
    {
      "cell_type": "code",
      "execution_count": 4,
      "metadata": {
        "id": "imcFjMNsq5W9"
      },
      "outputs": [],
      "source": [
        "class TransformerBlock(tf.keras.layers.Layer):\n",
        "    def __init__(self, embed_dim, num_heads, ff_dim, dropout=0.1):\n",
        "        super(TransformerBlock, self).__init__()\n",
        "        # Transfromer block multi-head Self Attention\n",
        "        self.multiheadselfattention = MultiHeadSelfAttention(embed_dim, num_heads)\n",
        "        self.ffn = tf.keras.Sequential(\n",
        "            [Dense(ff_dim, activation=\"relu\"), Dense(embed_dim),]\n",
        "        )\n",
        "        self.layernorm1 = LayerNormalization(epsilon=1e-6)\n",
        "        self.layernorm2 = LayerNormalization(epsilon=1e-6)\n",
        "        self.dropout1 = Dropout(dropout)\n",
        "        self.dropout2 = Dropout(dropout)\n",
        "\n",
        "    def call(self, inputs, training):\n",
        "        out1 = self.layernorm1(inputs)       \n",
        "        attention_output = self.multiheadselfattention(out1)\n",
        "        attention_output = self.dropout1(attention_output, training=training)       \n",
        "        out2 = self.layernorm1(inputs + attention_output)\n",
        "        ffn_output = self.ffn(out2)\n",
        "        ffn_output = self.dropout2(ffn_output, training=training)\n",
        "        return self.layernorm2(out2 + ffn_output)"
      ]
    },
    {
      "cell_type": "code",
      "execution_count": 5,
      "metadata": {
        "id": "Jyz3FveCq5W-"
      },
      "outputs": [],
      "source": [
        "class VisionTransformer(tf.keras.Model):\n",
        "    def __init__(\n",
        "        self,\n",
        "        image_size,\n",
        "        patch_size,\n",
        "        num_layers,\n",
        "        num_classes,\n",
        "        d_model,\n",
        "        num_heads,\n",
        "        mlp_dim,\n",
        "        channels=3,\n",
        "        dropout=0.1,\n",
        "    ):\n",
        "        super(VisionTransformer, self).__init__()\n",
        "        # create patches based on patch_size\n",
        "        # image_size/patch_size==0\n",
        "        num_patches=self.create_patch(image_size,patch_size, channels)\n",
        "        self.d_model = d_model\n",
        "        self.rescale = Rescaling(1./255)\n",
        "        self.patch_proj= self.create_postional_embedding(num_patches, d_model)\n",
        "        self.enc_layers = [\n",
        "            TransformerBlock(d_model, num_heads, mlp_dim, dropout)\n",
        "            for _ in range(num_layers)\n",
        "        ]\n",
        "        self.mlp_head = tf.keras.Sequential(\n",
        "            [\n",
        "                Dense(mlp_dim, activation=tfa.activations.gelu),\n",
        "                Dropout(dropout),\n",
        "                Dense(num_classes),\n",
        "            ]\n",
        "        )\n",
        "\n",
        "    def create_patch(self, image_size, patch_size, channels):\n",
        "        num_patches = (image_size // patch_size) ** 2\n",
        "        self.patch_dim = channels * patch_size ** 2\n",
        "        self.patch_size = patch_size\n",
        "        return num_patches\n",
        "    def create_postional_embedding(self,num_patches, d_model):\n",
        "        self.pos_emb = self.add_weight(\"pos_emb\", shape=(1, num_patches + 1, d_model))\n",
        "        self.class_emb = self.add_weight(\"class_emb\", shape=(1, 1, d_model))\n",
        "        print(self.class_emb.shape)\n",
        "        return Dense(d_model)\n",
        "   \n",
        "        \n",
        "    def extract_patches(self, images):\n",
        "        batch_size = tf.shape(images)[0]\n",
        "        patches = tf.image.extract_patches(\n",
        "            images=images,\n",
        "            sizes=[1, self.patch_size, self.patch_size, 1],\n",
        "            strides=[1, self.patch_size, self.patch_size, 1],\n",
        "            rates=[1, 1, 1, 1],\n",
        "            padding=\"VALID\",\n",
        "        )\n",
        "        patches = tf.reshape(patches, [batch_size, -1, self.patch_dim])\n",
        "        return patches\n",
        "\n",
        "    def call(self, x, training):\n",
        "        batch_size = tf.shape(x)[0]\n",
        "        #rescale \n",
        "        x = self.rescale(x)\n",
        "        # extract the patches from the image\n",
        "        patches = self.extract_patches(x)\n",
        "        # Apply the postio embedding\n",
        "        x = self.patch_proj(patches)        \n",
        "        class_emb = tf.broadcast_to(\n",
        "            self.class_emb, [batch_size, 1, self.d_model]\n",
        "        )              \n",
        "        x = tf.concat([class_emb, x], axis=1)\n",
        "        x = x + self.pos_emb        \n",
        "        for layer in self.enc_layers:\n",
        "            x = layer(x, training)\n",
        "        x = self.mlp_head(x[:, 0])\n",
        "        return x"
      ]
    },
    {
      "cell_type": "code",
      "execution_count": 10,
      "metadata": {
        "colab": {
          "base_uri": "https://localhost:8080/"
        },
        "id": "Vdg2op4mq5W_",
        "outputId": "c557a952-00dc-48ea-bdba-85cb3ba9f661"
      },
      "outputs": [
        {
          "output_type": "stream",
          "name": "stdout",
          "text": [
            "(1, 1, 64)\n",
            "Epoch 1/30\n",
            "781/782 [============================>.] - ETA: 0s - loss: 2.3108 - accuracy: 0.1035"
          ]
        },
        {
          "output_type": "stream",
          "name": "stderr",
          "text": [
            "WARNING:absl:Found untraced functions such as multi_head_self_attention_8_layer_call_fn, multi_head_self_attention_8_layer_call_and_return_conditional_losses, layer_normalization_16_layer_call_fn, layer_normalization_16_layer_call_and_return_conditional_losses, layer_normalization_17_layer_call_fn while saving (showing 5 of 144). These functions will not be directly callable after loading.\n"
          ]
        },
        {
          "output_type": "stream",
          "name": "stdout",
          "text": [
            "INFO:tensorflow:Assets written to: weights/best.tf/assets\n"
          ]
        },
        {
          "output_type": "stream",
          "name": "stderr",
          "text": [
            "INFO:tensorflow:Assets written to: weights/best.tf/assets\n"
          ]
        },
        {
          "output_type": "stream",
          "name": "stdout",
          "text": [
            "\b\b\b\b\b\b\b\b\b\b\b\b\b\b\b\b\b\b\b\b\b\b\b\b\b\b\b\b\b\b\b\b\b\b\b\b\b\b\b\b\b\b\b\b\b\b\b\b\b\b\b\b\b\b\b\b\b\b\b\b\b\b\b\b\b\b\b\b\b\b\b\b\b\b\b\b\b\b\b\b\b\b\b\b\r782/782 [==============================] - 89s 95ms/step - loss: 2.3108 - accuracy: 0.1035 - val_loss: 2.3044 - val_accuracy: 0.1001 - lr: 0.0010\n",
            "Epoch 2/30\n",
            "782/782 [==============================] - 49s 63ms/step - loss: 2.3063 - accuracy: 0.1010 - val_loss: 2.3044 - val_accuracy: 0.1001 - lr: 0.0010\n",
            "Epoch 3/30\n",
            "781/782 [============================>.] - ETA: 0s - loss: 2.3059 - accuracy: 0.1009"
          ]
        },
        {
          "output_type": "stream",
          "name": "stderr",
          "text": [
            "WARNING:absl:Found untraced functions such as multi_head_self_attention_8_layer_call_fn, multi_head_self_attention_8_layer_call_and_return_conditional_losses, layer_normalization_16_layer_call_fn, layer_normalization_16_layer_call_and_return_conditional_losses, layer_normalization_17_layer_call_fn while saving (showing 5 of 144). These functions will not be directly callable after loading.\n"
          ]
        },
        {
          "output_type": "stream",
          "name": "stdout",
          "text": [
            "INFO:tensorflow:Assets written to: weights/best.tf/assets\n"
          ]
        },
        {
          "output_type": "stream",
          "name": "stderr",
          "text": [
            "INFO:tensorflow:Assets written to: weights/best.tf/assets\n"
          ]
        },
        {
          "output_type": "stream",
          "name": "stdout",
          "text": [
            "\b\b\b\b\b\b\b\b\b\b\b\b\b\b\b\b\b\b\b\b\b\b\b\b\b\b\b\b\b\b\b\b\b\b\b\b\b\b\b\b\b\b\b\b\b\b\b\b\b\b\b\b\b\b\b\b\b\b\b\b\b\b\b\b\b\b\b\b\b\b\b\b\b\b\b\b\b\b\b\b\b\b\b\b\r782/782 [==============================] - 66s 84ms/step - loss: 2.3059 - accuracy: 0.1009 - val_loss: 2.3042 - val_accuracy: 0.1000 - lr: 0.0010\n",
            "Epoch 4/30\n",
            "781/782 [============================>.] - ETA: 0s - loss: 2.3050 - accuracy: 0.0997"
          ]
        },
        {
          "output_type": "stream",
          "name": "stderr",
          "text": [
            "WARNING:absl:Found untraced functions such as multi_head_self_attention_8_layer_call_fn, multi_head_self_attention_8_layer_call_and_return_conditional_losses, layer_normalization_16_layer_call_fn, layer_normalization_16_layer_call_and_return_conditional_losses, layer_normalization_17_layer_call_fn while saving (showing 5 of 144). These functions will not be directly callable after loading.\n"
          ]
        },
        {
          "output_type": "stream",
          "name": "stdout",
          "text": [
            "INFO:tensorflow:Assets written to: weights/best.tf/assets\n"
          ]
        },
        {
          "output_type": "stream",
          "name": "stderr",
          "text": [
            "INFO:tensorflow:Assets written to: weights/best.tf/assets\n"
          ]
        },
        {
          "output_type": "stream",
          "name": "stdout",
          "text": [
            "\b\b\b\b\b\b\b\b\b\b\b\b\b\b\b\b\b\b\b\b\b\b\b\b\b\b\b\b\b\b\b\b\b\b\b\b\b\b\b\b\b\b\b\b\b\b\b\b\b\b\b\b\b\b\b\b\b\b\b\b\b\b\b\b\b\b\b\b\b\b\b\b\b\b\b\b\b\b\b\b\b\b\b\b\r782/782 [==============================] - 66s 85ms/step - loss: 2.3050 - accuracy: 0.0997 - val_loss: 2.3040 - val_accuracy: 0.1000 - lr: 0.0010\n",
            "Epoch 5/30\n",
            "781/782 [============================>.] - ETA: 0s - loss: 2.3047 - accuracy: 0.0983"
          ]
        },
        {
          "output_type": "stream",
          "name": "stderr",
          "text": [
            "WARNING:absl:Found untraced functions such as multi_head_self_attention_8_layer_call_fn, multi_head_self_attention_8_layer_call_and_return_conditional_losses, layer_normalization_16_layer_call_fn, layer_normalization_16_layer_call_and_return_conditional_losses, layer_normalization_17_layer_call_fn while saving (showing 5 of 144). These functions will not be directly callable after loading.\n"
          ]
        },
        {
          "output_type": "stream",
          "name": "stdout",
          "text": [
            "INFO:tensorflow:Assets written to: weights/best.tf/assets\n"
          ]
        },
        {
          "output_type": "stream",
          "name": "stderr",
          "text": [
            "INFO:tensorflow:Assets written to: weights/best.tf/assets\n"
          ]
        },
        {
          "output_type": "stream",
          "name": "stdout",
          "text": [
            "\b\b\b\b\b\b\b\b\b\b\b\b\b\b\b\b\b\b\b\b\b\b\b\b\b\b\b\b\b\b\b\b\b\b\b\b\b\b\b\b\b\b\b\b\b\b\b\b\b\b\b\b\b\b\b\b\b\b\b\b\b\b\b\b\b\b\b\b\b\b\b\b\b\b\b\b\b\b\b\b\b\b\b\b\r782/782 [==============================] - 65s 84ms/step - loss: 2.3047 - accuracy: 0.0983 - val_loss: 2.3037 - val_accuracy: 0.1000 - lr: 0.0010\n",
            "Epoch 6/30\n",
            "781/782 [============================>.] - ETA: 0s - loss: 2.3048 - accuracy: 0.0980"
          ]
        },
        {
          "output_type": "stream",
          "name": "stderr",
          "text": [
            "WARNING:absl:Found untraced functions such as multi_head_self_attention_8_layer_call_fn, multi_head_self_attention_8_layer_call_and_return_conditional_losses, layer_normalization_16_layer_call_fn, layer_normalization_16_layer_call_and_return_conditional_losses, layer_normalization_17_layer_call_fn while saving (showing 5 of 144). These functions will not be directly callable after loading.\n"
          ]
        },
        {
          "output_type": "stream",
          "name": "stdout",
          "text": [
            "INFO:tensorflow:Assets written to: weights/best.tf/assets\n"
          ]
        },
        {
          "output_type": "stream",
          "name": "stderr",
          "text": [
            "INFO:tensorflow:Assets written to: weights/best.tf/assets\n"
          ]
        },
        {
          "output_type": "stream",
          "name": "stdout",
          "text": [
            "\b\b\b\b\b\b\b\b\b\b\b\b\b\b\b\b\b\b\b\b\b\b\b\b\b\b\b\b\b\b\b\b\b\b\b\b\b\b\b\b\b\b\b\b\b\b\b\b\b\b\b\b\b\b\b\b\b\b\b\b\b\b\b\b\b\b\b\b\b\b\b\b\b\b\b\b\b\b\b\b\b\b\b\b\r782/782 [==============================] - 66s 84ms/step - loss: 2.3048 - accuracy: 0.0980 - val_loss: 2.3037 - val_accuracy: 0.1000 - lr: 0.0010\n",
            "Epoch 7/30\n",
            "781/782 [============================>.] - ETA: 0s - loss: 2.3041 - accuracy: 0.1001"
          ]
        },
        {
          "output_type": "stream",
          "name": "stderr",
          "text": [
            "WARNING:absl:Found untraced functions such as multi_head_self_attention_8_layer_call_fn, multi_head_self_attention_8_layer_call_and_return_conditional_losses, layer_normalization_16_layer_call_fn, layer_normalization_16_layer_call_and_return_conditional_losses, layer_normalization_17_layer_call_fn while saving (showing 5 of 144). These functions will not be directly callable after loading.\n"
          ]
        },
        {
          "output_type": "stream",
          "name": "stdout",
          "text": [
            "INFO:tensorflow:Assets written to: weights/best.tf/assets\n"
          ]
        },
        {
          "output_type": "stream",
          "name": "stderr",
          "text": [
            "INFO:tensorflow:Assets written to: weights/best.tf/assets\n"
          ]
        },
        {
          "output_type": "stream",
          "name": "stdout",
          "text": [
            "\b\b\b\b\b\b\b\b\b\b\b\b\b\b\b\b\b\b\b\b\b\b\b\b\b\b\b\b\b\b\b\b\b\b\b\b\b\b\b\b\b\b\b\b\b\b\b\b\b\b\b\b\b\b\b\b\b\b\b\b\b\b\b\b\b\b\b\b\b\b\b\b\b\b\b\b\b\b\b\b\b\b\b\b\r782/782 [==============================] - 65s 84ms/step - loss: 2.3041 - accuracy: 0.1001 - val_loss: 2.3034 - val_accuracy: 0.1000 - lr: 0.0010\n",
            "Epoch 8/30\n",
            "781/782 [============================>.] - ETA: 0s - loss: 2.3037 - accuracy: 0.1002"
          ]
        },
        {
          "output_type": "stream",
          "name": "stderr",
          "text": [
            "WARNING:absl:Found untraced functions such as multi_head_self_attention_8_layer_call_fn, multi_head_self_attention_8_layer_call_and_return_conditional_losses, layer_normalization_16_layer_call_fn, layer_normalization_16_layer_call_and_return_conditional_losses, layer_normalization_17_layer_call_fn while saving (showing 5 of 144). These functions will not be directly callable after loading.\n"
          ]
        },
        {
          "output_type": "stream",
          "name": "stdout",
          "text": [
            "INFO:tensorflow:Assets written to: weights/best.tf/assets\n"
          ]
        },
        {
          "output_type": "stream",
          "name": "stderr",
          "text": [
            "INFO:tensorflow:Assets written to: weights/best.tf/assets\n"
          ]
        },
        {
          "output_type": "stream",
          "name": "stdout",
          "text": [
            "\b\b\b\b\b\b\b\b\b\b\b\b\b\b\b\b\b\b\b\b\b\b\b\b\b\b\b\b\b\b\b\b\b\b\b\b\b\b\b\b\b\b\b\b\b\b\b\b\b\b\b\b\b\b\b\b\b\b\b\b\b\b\b\b\b\b\b\b\b\b\b\b\b\b\b\b\b\b\b\b\b\b\b\b\r782/782 [==============================] - 66s 85ms/step - loss: 2.3037 - accuracy: 0.1001 - val_loss: 2.3033 - val_accuracy: 0.1000 - lr: 0.0010\n",
            "Epoch 9/30\n",
            "782/782 [==============================] - 47s 60ms/step - loss: 2.3034 - accuracy: 0.0990 - val_loss: 2.3034 - val_accuracy: 0.1000 - lr: 0.0010\n",
            "Epoch 10/30\n",
            "781/782 [============================>.] - ETA: 0s - loss: 2.3034 - accuracy: 0.0998"
          ]
        },
        {
          "output_type": "stream",
          "name": "stderr",
          "text": [
            "WARNING:absl:Found untraced functions such as multi_head_self_attention_8_layer_call_fn, multi_head_self_attention_8_layer_call_and_return_conditional_losses, layer_normalization_16_layer_call_fn, layer_normalization_16_layer_call_and_return_conditional_losses, layer_normalization_17_layer_call_fn while saving (showing 5 of 144). These functions will not be directly callable after loading.\n"
          ]
        },
        {
          "output_type": "stream",
          "name": "stdout",
          "text": [
            "INFO:tensorflow:Assets written to: weights/best.tf/assets\n"
          ]
        },
        {
          "output_type": "stream",
          "name": "stderr",
          "text": [
            "INFO:tensorflow:Assets written to: weights/best.tf/assets\n"
          ]
        },
        {
          "output_type": "stream",
          "name": "stdout",
          "text": [
            "\b\b\b\b\b\b\b\b\b\b\b\b\b\b\b\b\b\b\b\b\b\b\b\b\b\b\b\b\b\b\b\b\b\b\b\b\b\b\b\b\b\b\b\b\b\b\b\b\b\b\b\b\b\b\b\b\b\b\b\b\b\b\b\b\b\b\b\b\b\b\b\b\b\b\b\b\b\b\b\b\b\b\b\b\r782/782 [==============================] - 65s 84ms/step - loss: 2.3034 - accuracy: 0.0998 - val_loss: 2.3030 - val_accuracy: 0.1000 - lr: 0.0010\n",
            "Epoch 11/30\n",
            "781/782 [============================>.] - ETA: 0s - loss: 2.3032 - accuracy: 0.1000"
          ]
        },
        {
          "output_type": "stream",
          "name": "stderr",
          "text": [
            "WARNING:absl:Found untraced functions such as multi_head_self_attention_8_layer_call_fn, multi_head_self_attention_8_layer_call_and_return_conditional_losses, layer_normalization_16_layer_call_fn, layer_normalization_16_layer_call_and_return_conditional_losses, layer_normalization_17_layer_call_fn while saving (showing 5 of 144). These functions will not be directly callable after loading.\n"
          ]
        },
        {
          "output_type": "stream",
          "name": "stdout",
          "text": [
            "INFO:tensorflow:Assets written to: weights/best.tf/assets\n"
          ]
        },
        {
          "output_type": "stream",
          "name": "stderr",
          "text": [
            "INFO:tensorflow:Assets written to: weights/best.tf/assets\n"
          ]
        },
        {
          "output_type": "stream",
          "name": "stdout",
          "text": [
            "\b\b\b\b\b\b\b\b\b\b\b\b\b\b\b\b\b\b\b\b\b\b\b\b\b\b\b\b\b\b\b\b\b\b\b\b\b\b\b\b\b\b\b\b\b\b\b\b\b\b\b\b\b\b\b\b\b\b\b\b\b\b\b\b\b\b\b\b\b\b\b\b\b\b\b\b\b\b\b\b\b\b\b\b\r782/782 [==============================] - 66s 84ms/step - loss: 2.3032 - accuracy: 0.1000 - val_loss: 2.3028 - val_accuracy: 0.1000 - lr: 0.0010\n",
            "Epoch 12/30\n",
            "781/782 [============================>.] - ETA: 0s - loss: 2.3030 - accuracy: 0.0995"
          ]
        },
        {
          "output_type": "stream",
          "name": "stderr",
          "text": [
            "WARNING:absl:Found untraced functions such as multi_head_self_attention_8_layer_call_fn, multi_head_self_attention_8_layer_call_and_return_conditional_losses, layer_normalization_16_layer_call_fn, layer_normalization_16_layer_call_and_return_conditional_losses, layer_normalization_17_layer_call_fn while saving (showing 5 of 144). These functions will not be directly callable after loading.\n"
          ]
        },
        {
          "output_type": "stream",
          "name": "stdout",
          "text": [
            "INFO:tensorflow:Assets written to: weights/best.tf/assets\n"
          ]
        },
        {
          "output_type": "stream",
          "name": "stderr",
          "text": [
            "INFO:tensorflow:Assets written to: weights/best.tf/assets\n"
          ]
        },
        {
          "output_type": "stream",
          "name": "stdout",
          "text": [
            "\b\b\b\b\b\b\b\b\b\b\b\b\b\b\b\b\b\b\b\b\b\b\b\b\b\b\b\b\b\b\b\b\b\b\b\b\b\b\b\b\b\b\b\b\b\b\b\b\b\b\b\b\b\b\b\b\b\b\b\b\b\b\b\b\b\b\b\b\b\b\b\b\b\b\b\b\b\b\b\b\b\b\b\b\r782/782 [==============================] - 65s 84ms/step - loss: 2.3030 - accuracy: 0.0994 - val_loss: 2.3027 - val_accuracy: 0.1000 - lr: 0.0010\n",
            "Epoch 13/30\n",
            "782/782 [==============================] - 47s 60ms/step - loss: 2.3030 - accuracy: 0.0982 - val_loss: 2.3028 - val_accuracy: 0.1000 - lr: 0.0010\n",
            "Epoch 14/30\n",
            "782/782 [==============================] - 47s 60ms/step - loss: 2.3029 - accuracy: 0.0990 - val_loss: 2.3029 - val_accuracy: 0.1000 - lr: 0.0010\n",
            "Epoch 15/30\n",
            "781/782 [============================>.] - ETA: 0s - loss: 2.2913 - accuracy: 0.1095"
          ]
        },
        {
          "output_type": "stream",
          "name": "stderr",
          "text": [
            "WARNING:absl:Found untraced functions such as multi_head_self_attention_8_layer_call_fn, multi_head_self_attention_8_layer_call_and_return_conditional_losses, layer_normalization_16_layer_call_fn, layer_normalization_16_layer_call_and_return_conditional_losses, layer_normalization_17_layer_call_fn while saving (showing 5 of 144). These functions will not be directly callable after loading.\n"
          ]
        },
        {
          "output_type": "stream",
          "name": "stdout",
          "text": [
            "INFO:tensorflow:Assets written to: weights/best.tf/assets\n"
          ]
        },
        {
          "output_type": "stream",
          "name": "stderr",
          "text": [
            "INFO:tensorflow:Assets written to: weights/best.tf/assets\n"
          ]
        },
        {
          "output_type": "stream",
          "name": "stdout",
          "text": [
            "\b\b\b\b\b\b\b\b\b\b\b\b\b\b\b\b\b\b\b\b\b\b\b\b\b\b\b\b\b\b\b\b\b\b\b\b\b\b\b\b\b\b\b\b\b\b\b\b\b\b\b\b\b\b\b\b\b\b\b\b\b\b\b\b\b\b\b\b\b\b\b\b\b\b\b\b\b\b\b\b\b\b\b\b\r782/782 [==============================] - 65s 84ms/step - loss: 2.2913 - accuracy: 0.1094 - val_loss: 2.2300 - val_accuracy: 0.1802 - lr: 1.0000e-04\n",
            "Epoch 16/30\n",
            "781/782 [============================>.] - ETA: 0s - loss: 2.1113 - accuracy: 0.1902"
          ]
        },
        {
          "output_type": "stream",
          "name": "stderr",
          "text": [
            "WARNING:absl:Found untraced functions such as multi_head_self_attention_8_layer_call_fn, multi_head_self_attention_8_layer_call_and_return_conditional_losses, layer_normalization_16_layer_call_fn, layer_normalization_16_layer_call_and_return_conditional_losses, layer_normalization_17_layer_call_fn while saving (showing 5 of 144). These functions will not be directly callable after loading.\n"
          ]
        },
        {
          "output_type": "stream",
          "name": "stdout",
          "text": [
            "INFO:tensorflow:Assets written to: weights/best.tf/assets\n"
          ]
        },
        {
          "output_type": "stream",
          "name": "stderr",
          "text": [
            "INFO:tensorflow:Assets written to: weights/best.tf/assets\n"
          ]
        },
        {
          "output_type": "stream",
          "name": "stdout",
          "text": [
            "\b\b\b\b\b\b\b\b\b\b\b\b\b\b\b\b\b\b\b\b\b\b\b\b\b\b\b\b\b\b\b\b\b\b\b\b\b\b\b\b\b\b\b\b\b\b\b\b\b\b\b\b\b\b\b\b\b\b\b\b\b\b\b\b\b\b\b\b\b\b\b\b\b\b\b\b\b\b\b\b\b\b\b\b\r782/782 [==============================] - 65s 84ms/step - loss: 2.1112 - accuracy: 0.1902 - val_loss: 2.0085 - val_accuracy: 0.2100 - lr: 1.0000e-04\n",
            "Epoch 17/30\n",
            "781/782 [============================>.] - ETA: 0s - loss: 1.9591 - accuracy: 0.2162"
          ]
        },
        {
          "output_type": "stream",
          "name": "stderr",
          "text": [
            "WARNING:absl:Found untraced functions such as multi_head_self_attention_8_layer_call_fn, multi_head_self_attention_8_layer_call_and_return_conditional_losses, layer_normalization_16_layer_call_fn, layer_normalization_16_layer_call_and_return_conditional_losses, layer_normalization_17_layer_call_fn while saving (showing 5 of 144). These functions will not be directly callable after loading.\n"
          ]
        },
        {
          "output_type": "stream",
          "name": "stdout",
          "text": [
            "INFO:tensorflow:Assets written to: weights/best.tf/assets\n"
          ]
        },
        {
          "output_type": "stream",
          "name": "stderr",
          "text": [
            "INFO:tensorflow:Assets written to: weights/best.tf/assets\n"
          ]
        },
        {
          "output_type": "stream",
          "name": "stdout",
          "text": [
            "\b\b\b\b\b\b\b\b\b\b\b\b\b\b\b\b\b\b\b\b\b\b\b\b\b\b\b\b\b\b\b\b\b\b\b\b\b\b\b\b\b\b\b\b\b\b\b\b\b\b\b\b\b\b\b\b\b\b\b\b\b\b\b\b\b\b\b\b\b\b\b\b\b\b\b\b\b\b\b\b\b\b\b\b\r782/782 [==============================] - 66s 84ms/step - loss: 1.9591 - accuracy: 0.2162 - val_loss: 1.9045 - val_accuracy: 0.2314 - lr: 1.0000e-04\n",
            "Epoch 18/30\n",
            "781/782 [============================>.] - ETA: 0s - loss: 1.8959 - accuracy: 0.2353"
          ]
        },
        {
          "output_type": "stream",
          "name": "stderr",
          "text": [
            "WARNING:absl:Found untraced functions such as multi_head_self_attention_8_layer_call_fn, multi_head_self_attention_8_layer_call_and_return_conditional_losses, layer_normalization_16_layer_call_fn, layer_normalization_16_layer_call_and_return_conditional_losses, layer_normalization_17_layer_call_fn while saving (showing 5 of 144). These functions will not be directly callable after loading.\n"
          ]
        },
        {
          "output_type": "stream",
          "name": "stdout",
          "text": [
            "INFO:tensorflow:Assets written to: weights/best.tf/assets\n"
          ]
        },
        {
          "output_type": "stream",
          "name": "stderr",
          "text": [
            "INFO:tensorflow:Assets written to: weights/best.tf/assets\n"
          ]
        },
        {
          "output_type": "stream",
          "name": "stdout",
          "text": [
            "\b\b\b\b\b\b\b\b\b\b\b\b\b\b\b\b\b\b\b\b\b\b\b\b\b\b\b\b\b\b\b\b\b\b\b\b\b\b\b\b\b\b\b\b\b\b\b\b\b\b\b\b\b\b\b\b\b\b\b\b\b\b\b\b\b\b\b\b\b\b\b\b\b\b\b\b\b\b\b\b\b\b\b\b\r782/782 [==============================] - 66s 84ms/step - loss: 1.8958 - accuracy: 0.2353 - val_loss: 1.8607 - val_accuracy: 0.2356 - lr: 1.0000e-04\n",
            "Epoch 19/30\n",
            "781/782 [============================>.] - ETA: 0s - loss: 1.8486 - accuracy: 0.2579"
          ]
        },
        {
          "output_type": "stream",
          "name": "stderr",
          "text": [
            "WARNING:absl:Found untraced functions such as multi_head_self_attention_8_layer_call_fn, multi_head_self_attention_8_layer_call_and_return_conditional_losses, layer_normalization_16_layer_call_fn, layer_normalization_16_layer_call_and_return_conditional_losses, layer_normalization_17_layer_call_fn while saving (showing 5 of 144). These functions will not be directly callable after loading.\n"
          ]
        },
        {
          "output_type": "stream",
          "name": "stdout",
          "text": [
            "INFO:tensorflow:Assets written to: weights/best.tf/assets\n"
          ]
        },
        {
          "output_type": "stream",
          "name": "stderr",
          "text": [
            "INFO:tensorflow:Assets written to: weights/best.tf/assets\n"
          ]
        },
        {
          "output_type": "stream",
          "name": "stdout",
          "text": [
            "\b\b\b\b\b\b\b\b\b\b\b\b\b\b\b\b\b\b\b\b\b\b\b\b\b\b\b\b\b\b\b\b\b\b\b\b\b\b\b\b\b\b\b\b\b\b\b\b\b\b\b\b\b\b\b\b\b\b\b\b\b\b\b\b\b\b\b\b\b\b\b\b\b\b\b\b\b\b\b\b\b\b\b\b\r782/782 [==============================] - 65s 84ms/step - loss: 1.8486 - accuracy: 0.2580 - val_loss: 1.8058 - val_accuracy: 0.2785 - lr: 1.0000e-04\n",
            "Epoch 20/30\n",
            "782/782 [==============================] - 47s 60ms/step - loss: 1.8189 - accuracy: 0.2803 - val_loss: 1.8078 - val_accuracy: 0.2867 - lr: 1.0000e-04\n",
            "Epoch 21/30\n",
            "781/782 [============================>.] - ETA: 0s - loss: 1.7893 - accuracy: 0.3064"
          ]
        },
        {
          "output_type": "stream",
          "name": "stderr",
          "text": [
            "WARNING:absl:Found untraced functions such as multi_head_self_attention_8_layer_call_fn, multi_head_self_attention_8_layer_call_and_return_conditional_losses, layer_normalization_16_layer_call_fn, layer_normalization_16_layer_call_and_return_conditional_losses, layer_normalization_17_layer_call_fn while saving (showing 5 of 144). These functions will not be directly callable after loading.\n"
          ]
        },
        {
          "output_type": "stream",
          "name": "stdout",
          "text": [
            "INFO:tensorflow:Assets written to: weights/best.tf/assets\n"
          ]
        },
        {
          "output_type": "stream",
          "name": "stderr",
          "text": [
            "INFO:tensorflow:Assets written to: weights/best.tf/assets\n"
          ]
        },
        {
          "output_type": "stream",
          "name": "stdout",
          "text": [
            "\b\b\b\b\b\b\b\b\b\b\b\b\b\b\b\b\b\b\b\b\b\b\b\b\b\b\b\b\b\b\b\b\b\b\b\b\b\b\b\b\b\b\b\b\b\b\b\b\b\b\b\b\b\b\b\b\b\b\b\b\b\b\b\b\b\b\b\b\b\b\b\b\b\b\b\b\b\b\b\b\b\b\b\b\r782/782 [==============================] - 65s 83ms/step - loss: 1.7892 - accuracy: 0.3064 - val_loss: 1.7441 - val_accuracy: 0.3259 - lr: 1.0000e-04\n",
            "Epoch 22/30\n",
            "781/782 [============================>.] - ETA: 0s - loss: 1.7569 - accuracy: 0.3233"
          ]
        },
        {
          "output_type": "stream",
          "name": "stderr",
          "text": [
            "WARNING:absl:Found untraced functions such as multi_head_self_attention_8_layer_call_fn, multi_head_self_attention_8_layer_call_and_return_conditional_losses, layer_normalization_16_layer_call_fn, layer_normalization_16_layer_call_and_return_conditional_losses, layer_normalization_17_layer_call_fn while saving (showing 5 of 144). These functions will not be directly callable after loading.\n"
          ]
        },
        {
          "output_type": "stream",
          "name": "stdout",
          "text": [
            "INFO:tensorflow:Assets written to: weights/best.tf/assets\n"
          ]
        },
        {
          "output_type": "stream",
          "name": "stderr",
          "text": [
            "INFO:tensorflow:Assets written to: weights/best.tf/assets\n"
          ]
        },
        {
          "output_type": "stream",
          "name": "stdout",
          "text": [
            "\b\b\b\b\b\b\b\b\b\b\b\b\b\b\b\b\b\b\b\b\b\b\b\b\b\b\b\b\b\b\b\b\b\b\b\b\b\b\b\b\b\b\b\b\b\b\b\b\b\b\b\b\b\b\b\b\b\b\b\b\b\b\b\b\b\b\b\b\b\b\b\b\b\b\b\b\b\b\b\b\b\b\b\b\r782/782 [==============================] - 65s 83ms/step - loss: 1.7569 - accuracy: 0.3233 - val_loss: 1.7090 - val_accuracy: 0.3427 - lr: 1.0000e-04\n",
            "Epoch 23/30\n",
            "781/782 [============================>.] - ETA: 0s - loss: 1.7278 - accuracy: 0.3363"
          ]
        },
        {
          "output_type": "stream",
          "name": "stderr",
          "text": [
            "WARNING:absl:Found untraced functions such as multi_head_self_attention_8_layer_call_fn, multi_head_self_attention_8_layer_call_and_return_conditional_losses, layer_normalization_16_layer_call_fn, layer_normalization_16_layer_call_and_return_conditional_losses, layer_normalization_17_layer_call_fn while saving (showing 5 of 144). These functions will not be directly callable after loading.\n"
          ]
        },
        {
          "output_type": "stream",
          "name": "stdout",
          "text": [
            "INFO:tensorflow:Assets written to: weights/best.tf/assets\n"
          ]
        },
        {
          "output_type": "stream",
          "name": "stderr",
          "text": [
            "INFO:tensorflow:Assets written to: weights/best.tf/assets\n"
          ]
        },
        {
          "output_type": "stream",
          "name": "stdout",
          "text": [
            "\b\b\b\b\b\b\b\b\b\b\b\b\b\b\b\b\b\b\b\b\b\b\b\b\b\b\b\b\b\b\b\b\b\b\b\b\b\b\b\b\b\b\b\b\b\b\b\b\b\b\b\b\b\b\b\b\b\b\b\b\b\b\b\b\b\b\b\b\b\b\b\b\b\b\b\b\b\b\b\b\b\b\b\b\r782/782 [==============================] - 65s 84ms/step - loss: 1.7278 - accuracy: 0.3363 - val_loss: 1.6917 - val_accuracy: 0.3484 - lr: 1.0000e-04\n",
            "Epoch 24/30\n",
            "781/782 [============================>.] - ETA: 0s - loss: 1.7064 - accuracy: 0.3457"
          ]
        },
        {
          "output_type": "stream",
          "name": "stderr",
          "text": [
            "WARNING:absl:Found untraced functions such as multi_head_self_attention_8_layer_call_fn, multi_head_self_attention_8_layer_call_and_return_conditional_losses, layer_normalization_16_layer_call_fn, layer_normalization_16_layer_call_and_return_conditional_losses, layer_normalization_17_layer_call_fn while saving (showing 5 of 144). These functions will not be directly callable after loading.\n"
          ]
        },
        {
          "output_type": "stream",
          "name": "stdout",
          "text": [
            "INFO:tensorflow:Assets written to: weights/best.tf/assets\n"
          ]
        },
        {
          "output_type": "stream",
          "name": "stderr",
          "text": [
            "INFO:tensorflow:Assets written to: weights/best.tf/assets\n"
          ]
        },
        {
          "output_type": "stream",
          "name": "stdout",
          "text": [
            "\b\b\b\b\b\b\b\b\b\b\b\b\b\b\b\b\b\b\b\b\b\b\b\b\b\b\b\b\b\b\b\b\b\b\b\b\b\b\b\b\b\b\b\b\b\b\b\b\b\b\b\b\b\b\b\b\b\b\b\b\b\b\b\b\b\b\b\b\b\b\b\b\b\b\b\b\b\b\b\b\b\b\b\b\r782/782 [==============================] - 65s 83ms/step - loss: 1.7064 - accuracy: 0.3457 - val_loss: 1.6862 - val_accuracy: 0.3482 - lr: 1.0000e-04\n",
            "Epoch 25/30\n",
            "781/782 [============================>.] - ETA: 0s - loss: 1.6840 - accuracy: 0.3531"
          ]
        },
        {
          "output_type": "stream",
          "name": "stderr",
          "text": [
            "WARNING:absl:Found untraced functions such as multi_head_self_attention_8_layer_call_fn, multi_head_self_attention_8_layer_call_and_return_conditional_losses, layer_normalization_16_layer_call_fn, layer_normalization_16_layer_call_and_return_conditional_losses, layer_normalization_17_layer_call_fn while saving (showing 5 of 144). These functions will not be directly callable after loading.\n"
          ]
        },
        {
          "output_type": "stream",
          "name": "stdout",
          "text": [
            "INFO:tensorflow:Assets written to: weights/best.tf/assets\n"
          ]
        },
        {
          "output_type": "stream",
          "name": "stderr",
          "text": [
            "INFO:tensorflow:Assets written to: weights/best.tf/assets\n"
          ]
        },
        {
          "output_type": "stream",
          "name": "stdout",
          "text": [
            "\b\b\b\b\b\b\b\b\b\b\b\b\b\b\b\b\b\b\b\b\b\b\b\b\b\b\b\b\b\b\b\b\b\b\b\b\b\b\b\b\b\b\b\b\b\b\b\b\b\b\b\b\b\b\b\b\b\b\b\b\b\b\b\b\b\b\b\b\b\b\b\b\b\b\b\b\b\b\b\b\b\b\b\b\r782/782 [==============================] - 65s 83ms/step - loss: 1.6840 - accuracy: 0.3531 - val_loss: 1.6482 - val_accuracy: 0.3673 - lr: 1.0000e-04\n",
            "Epoch 26/30\n",
            "781/782 [============================>.] - ETA: 0s - loss: 1.6647 - accuracy: 0.3590"
          ]
        },
        {
          "output_type": "stream",
          "name": "stderr",
          "text": [
            "WARNING:absl:Found untraced functions such as multi_head_self_attention_8_layer_call_fn, multi_head_self_attention_8_layer_call_and_return_conditional_losses, layer_normalization_16_layer_call_fn, layer_normalization_16_layer_call_and_return_conditional_losses, layer_normalization_17_layer_call_fn while saving (showing 5 of 144). These functions will not be directly callable after loading.\n"
          ]
        },
        {
          "output_type": "stream",
          "name": "stdout",
          "text": [
            "INFO:tensorflow:Assets written to: weights/best.tf/assets\n"
          ]
        },
        {
          "output_type": "stream",
          "name": "stderr",
          "text": [
            "INFO:tensorflow:Assets written to: weights/best.tf/assets\n"
          ]
        },
        {
          "output_type": "stream",
          "name": "stdout",
          "text": [
            "\b\b\b\b\b\b\b\b\b\b\b\b\b\b\b\b\b\b\b\b\b\b\b\b\b\b\b\b\b\b\b\b\b\b\b\b\b\b\b\b\b\b\b\b\b\b\b\b\b\b\b\b\b\b\b\b\b\b\b\b\b\b\b\b\b\b\b\b\b\b\b\b\b\b\b\b\b\b\b\b\b\b\b\b\r782/782 [==============================] - 65s 83ms/step - loss: 1.6647 - accuracy: 0.3590 - val_loss: 1.6221 - val_accuracy: 0.3778 - lr: 1.0000e-04\n",
            "Epoch 27/30\n",
            "781/782 [============================>.] - ETA: 0s - loss: 1.6531 - accuracy: 0.3624"
          ]
        },
        {
          "output_type": "stream",
          "name": "stderr",
          "text": [
            "WARNING:absl:Found untraced functions such as multi_head_self_attention_8_layer_call_fn, multi_head_self_attention_8_layer_call_and_return_conditional_losses, layer_normalization_16_layer_call_fn, layer_normalization_16_layer_call_and_return_conditional_losses, layer_normalization_17_layer_call_fn while saving (showing 5 of 144). These functions will not be directly callable after loading.\n"
          ]
        },
        {
          "output_type": "stream",
          "name": "stdout",
          "text": [
            "INFO:tensorflow:Assets written to: weights/best.tf/assets\n"
          ]
        },
        {
          "output_type": "stream",
          "name": "stderr",
          "text": [
            "INFO:tensorflow:Assets written to: weights/best.tf/assets\n"
          ]
        },
        {
          "output_type": "stream",
          "name": "stdout",
          "text": [
            "\b\b\b\b\b\b\b\b\b\b\b\b\b\b\b\b\b\b\b\b\b\b\b\b\b\b\b\b\b\b\b\b\b\b\b\b\b\b\b\b\b\b\b\b\b\b\b\b\b\b\b\b\b\b\b\b\b\b\b\b\b\b\b\b\b\b\b\b\b\b\b\b\b\b\b\b\b\b\b\b\b\b\b\b\r782/782 [==============================] - 65s 83ms/step - loss: 1.6531 - accuracy: 0.3623 - val_loss: 1.6175 - val_accuracy: 0.3829 - lr: 1.0000e-04\n",
            "Epoch 28/30\n",
            "781/782 [============================>.] - ETA: 0s - loss: 1.6371 - accuracy: 0.3715"
          ]
        },
        {
          "output_type": "stream",
          "name": "stderr",
          "text": [
            "WARNING:absl:Found untraced functions such as multi_head_self_attention_8_layer_call_fn, multi_head_self_attention_8_layer_call_and_return_conditional_losses, layer_normalization_16_layer_call_fn, layer_normalization_16_layer_call_and_return_conditional_losses, layer_normalization_17_layer_call_fn while saving (showing 5 of 144). These functions will not be directly callable after loading.\n"
          ]
        },
        {
          "output_type": "stream",
          "name": "stdout",
          "text": [
            "INFO:tensorflow:Assets written to: weights/best.tf/assets\n"
          ]
        },
        {
          "output_type": "stream",
          "name": "stderr",
          "text": [
            "INFO:tensorflow:Assets written to: weights/best.tf/assets\n"
          ]
        },
        {
          "output_type": "stream",
          "name": "stdout",
          "text": [
            "\b\b\b\b\b\b\b\b\b\b\b\b\b\b\b\b\b\b\b\b\b\b\b\b\b\b\b\b\b\b\b\b\b\b\b\b\b\b\b\b\b\b\b\b\b\b\b\b\b\b\b\b\b\b\b\b\b\b\b\b\b\b\b\b\b\b\b\b\b\b\b\b\b\b\b\b\b\b\b\b\b\b\b\b\r782/782 [==============================] - 65s 83ms/step - loss: 1.6371 - accuracy: 0.3715 - val_loss: 1.5987 - val_accuracy: 0.3785 - lr: 1.0000e-04\n",
            "Epoch 29/30\n",
            "781/782 [============================>.] - ETA: 0s - loss: 1.6268 - accuracy: 0.3772"
          ]
        },
        {
          "output_type": "stream",
          "name": "stderr",
          "text": [
            "WARNING:absl:Found untraced functions such as multi_head_self_attention_8_layer_call_fn, multi_head_self_attention_8_layer_call_and_return_conditional_losses, layer_normalization_16_layer_call_fn, layer_normalization_16_layer_call_and_return_conditional_losses, layer_normalization_17_layer_call_fn while saving (showing 5 of 144). These functions will not be directly callable after loading.\n"
          ]
        },
        {
          "output_type": "stream",
          "name": "stdout",
          "text": [
            "INFO:tensorflow:Assets written to: weights/best.tf/assets\n"
          ]
        },
        {
          "output_type": "stream",
          "name": "stderr",
          "text": [
            "INFO:tensorflow:Assets written to: weights/best.tf/assets\n"
          ]
        },
        {
          "output_type": "stream",
          "name": "stdout",
          "text": [
            "\b\b\b\b\b\b\b\b\b\b\b\b\b\b\b\b\b\b\b\b\b\b\b\b\b\b\b\b\b\b\b\b\b\b\b\b\b\b\b\b\b\b\b\b\b\b\b\b\b\b\b\b\b\b\b\b\b\b\b\b\b\b\b\b\b\b\b\b\b\b\b\b\b\b\b\b\b\b\b\b\b\b\b\b\r782/782 [==============================] - 65s 83ms/step - loss: 1.6269 - accuracy: 0.3772 - val_loss: 1.5859 - val_accuracy: 0.3926 - lr: 1.0000e-04\n",
            "Epoch 30/30\n",
            "781/782 [============================>.] - ETA: 0s - loss: 1.6206 - accuracy: 0.3794"
          ]
        },
        {
          "output_type": "stream",
          "name": "stderr",
          "text": [
            "WARNING:absl:Found untraced functions such as multi_head_self_attention_8_layer_call_fn, multi_head_self_attention_8_layer_call_and_return_conditional_losses, layer_normalization_16_layer_call_fn, layer_normalization_16_layer_call_and_return_conditional_losses, layer_normalization_17_layer_call_fn while saving (showing 5 of 144). These functions will not be directly callable after loading.\n"
          ]
        },
        {
          "output_type": "stream",
          "name": "stdout",
          "text": [
            "INFO:tensorflow:Assets written to: weights/best.tf/assets\n"
          ]
        },
        {
          "output_type": "stream",
          "name": "stderr",
          "text": [
            "INFO:tensorflow:Assets written to: weights/best.tf/assets\n"
          ]
        },
        {
          "output_type": "stream",
          "name": "stdout",
          "text": [
            "\b\b\b\b\b\b\b\b\b\b\b\b\b\b\b\b\b\b\b\b\b\b\b\b\b\b\b\b\b\b\b\b\b\b\b\b\b\b\b\b\b\b\b\b\b\b\b\b\b\b\b\b\b\b\b\b\b\b\b\b\b\b\b\b\b\b\b\b\b\b\b\b\b\b\b\b\b\b\b\b\b\b\b\b\r782/782 [==============================] - 65s 83ms/step - loss: 1.6205 - accuracy: 0.3794 - val_loss: 1.5778 - val_accuracy: 0.3942 - lr: 1.0000e-04\n"
          ]
        }
      ],
      "source": [
        "model = None\n",
        "\n",
        "\n",
        "AUTOTUNE = tf.data.experimental.AUTOTUNE\n",
        "\n",
        "IMAGE_SIZE=32\n",
        "PATCH_SIZE=4 \n",
        "NUM_LAYERS=8\n",
        "NUM_HEADS=16\n",
        "MLP_DIM=128\n",
        "lr=0.001\n",
        "WEIGHT_DECAY=1e-4\n",
        "BATCH_SIZE=64\n",
        "epochs=30\n",
        "\n",
        "ds, info = tfds.load(\"cifar10\", as_supervised=True, with_info=True)\n",
        "ds_train = (\n",
        "    ds[\"train\"]\n",
        "    .cache()\n",
        "    .shuffle(1024)\n",
        "    .batch(BATCH_SIZE)\n",
        "    .prefetch(AUTOTUNE)\n",
        ")\n",
        "ds_test = (\n",
        "    ds[\"test\"]\n",
        "    .cache()\n",
        "    .batch(BATCH_SIZE)\n",
        "    .prefetch(AUTOTUNE)\n",
        ")\n",
        "\n",
        "\n",
        "model = VisionTransformer(\n",
        "    image_size=IMAGE_SIZE,\n",
        "    patch_size=PATCH_SIZE,\n",
        "    num_layers=NUM_LAYERS,\n",
        "    num_classes=10,\n",
        "    d_model=64,\n",
        "    num_heads=NUM_HEADS,\n",
        "    mlp_dim=MLP_DIM,\n",
        "    channels=3,\n",
        "    dropout=0.1,\n",
        ")\n",
        "model.compile(\n",
        "    loss=tf.keras.losses.SparseCategoricalCrossentropy(from_logits=True),\n",
        "    optimizer=tfa.optimizers.AdamW(learning_rate=lr, weight_decay=WEIGHT_DECAY),\n",
        "    metrics=[\"accuracy\"],\n",
        ")\n",
        "\n",
        "early_stop = tf.keras.callbacks.EarlyStopping(patience=10),\n",
        "mcp = tf.keras.callbacks.ModelCheckpoint(filepath='weights/best.tf', \n",
        "                                         save_best_only=True, \n",
        "                                         monitor='val_loss', \n",
        "                                         mode='min')\n",
        "reduce_lr = tf.keras.callbacks.ReduceLROnPlateau(monitor='val_loss', \n",
        "                                                 factor=0.1, \n",
        "                                                 patience=3, \n",
        "                                                 verbose=0, \n",
        "                                                 mode='auto',\n",
        "min_delta=0.0001, cooldown=0, min_lr=0)    \n",
        "\n",
        "model.fit(\n",
        "    ds_train,\n",
        "    validation_data=ds_test,\n",
        "    epochs=epochs,\n",
        "    callbacks=[early_stop, mcp, reduce_lr],\n",
        ")\n",
        "model.save_weights(os.path.join('.', \"vit\"))"
      ]
    },
    {
      "cell_type": "code",
      "execution_count": 11,
      "metadata": {
        "id": "f_TQVTMHq5XA",
        "colab": {
          "base_uri": "https://localhost:8080/"
        },
        "outputId": "3d3dfc44-6e31-4860-a199-155dab7d2a72"
      },
      "outputs": [
        {
          "output_type": "stream",
          "name": "stdout",
          "text": [
            "Model: \"vision_transformer_1\"\n",
            "_________________________________________________________________\n",
            " Layer (type)                Output Shape              Param #   \n",
            "=================================================================\n",
            " rescaling_1 (Rescaling)     multiple                  0         \n",
            "                                                                 \n",
            " dense_51 (Dense)            multiple                  3136      \n",
            "                                                                 \n",
            " transformer_block_8 (Transf  multiple                 33472     \n",
            " ormerBlock)                                                     \n",
            "                                                                 \n",
            " transformer_block_9 (Transf  multiple                 33472     \n",
            " ormerBlock)                                                     \n",
            "                                                                 \n",
            " transformer_block_10 (Trans  multiple                 33472     \n",
            " formerBlock)                                                    \n",
            "                                                                 \n",
            " transformer_block_11 (Trans  multiple                 33472     \n",
            " formerBlock)                                                    \n",
            "                                                                 \n",
            " transformer_block_12 (Trans  multiple                 33472     \n",
            " formerBlock)                                                    \n",
            "                                                                 \n",
            " transformer_block_13 (Trans  multiple                 33472     \n",
            " formerBlock)                                                    \n",
            "                                                                 \n",
            " transformer_block_14 (Trans  multiple                 33472     \n",
            " formerBlock)                                                    \n",
            "                                                                 \n",
            " transformer_block_15 (Trans  multiple                 33472     \n",
            " formerBlock)                                                    \n",
            "                                                                 \n",
            " sequential_17 (Sequential)  (None, 10)                9610      \n",
            "                                                                 \n",
            "=================================================================\n",
            "Total params: 284,746\n",
            "Trainable params: 284,746\n",
            "Non-trainable params: 0\n",
            "_________________________________________________________________\n"
          ]
        }
      ],
      "source": [
        "model.summary()"
      ]
    },
    {
      "cell_type": "code",
      "execution_count": 12,
      "metadata": {
        "id": "v8z2RaITq5XB",
        "colab": {
          "base_uri": "https://localhost:8080/",
          "height": 77
        },
        "outputId": "a2f0b7a5-4ac8-4faa-fcd2-3cc388ce3b9a"
      },
      "outputs": [
        {
          "output_type": "execute_result",
          "data": {
            "text/plain": [
              "<IPython.core.display.Image object>"
            ],
            "image/png": "[encoded data removed]"
          },
          "metadata": {},
          "execution_count": 12
        }
      ],
      "source": [
        "from tensorflow.keras.utils import plot_model\n",
        "plot_model(model, to_file='model.png')\n",
        "#plot_model(model, to_file='model.png')"
      ]
    },
    {
      "cell_type": "code",
      "execution_count": 13,
      "metadata": {
        "id": "Or7mWX0Gq5XB",
        "colab": {
          "base_uri": "https://localhost:8080/",
          "height": 589
        },
        "outputId": "8d681bf4-9ebc-44a1-a4d2-9673ab9c62fd"
      },
      "outputs": [
        {
          "output_type": "display_data",
          "data": {
            "text/plain": [
              "<Figure size 360x360 with 1 Axes>"
            ],
            "image/png": "[encoded data removed]"
          },
          "metadata": {
            "needs_background": "light"
          }
        },
        {
          "output_type": "display_data",
          "data": {
            "text/plain": [
              "<Figure size 360x360 with 16 Axes>"
            ],
            "image/png": "[encoded data removed]"
          },
          "metadata": {
            "needs_background": "light"
          }
        }
      ],
      "source": [
        "from PIL import Image\n",
        "from matplotlib import pyplot as plt\n",
        "%matplotlib inline\n",
        "import cv2\n",
        "\n",
        "\n",
        "AUTOTUNE = tf.data.experimental.AUTOTUNE\n",
        "IMAGE_SIZE=32\n",
        "PATCH_SIZE=8 \n",
        "NUM_LAYERS=8\n",
        "NUM_HEADS=16\n",
        "MLP_DIM=128\n",
        "lr=1e-3\n",
        "WEIGHT_DECAY=1e-4\n",
        "BATCH_SIZE=64\n",
        "num_patches=IMAGE_SIZE//PATCH_SIZE\n",
        "epochs=1\n",
        "ds = tfds.load(\"cifar10\", as_supervised=True)\n",
        "ds_train = (\n",
        "    ds[\"train\"]\n",
        "    .cache()\n",
        "    .shuffle(1024)\n",
        "    .batch(BATCH_SIZE)\n",
        "    .prefetch(AUTOTUNE)\n",
        ")\n",
        "plt.figure(figsize=(5, 5))\n",
        "\n",
        "for images, labels in ds_train.take(1):\n",
        "  for i in range(1):\n",
        "    #ax = plt.subplot(3, 3, i + 1)\n",
        "    plt.imshow(images[i].numpy().astype(\"uint8\"))\n",
        "    \n",
        "    plt.axis(\"off\")\n",
        "patches = tf.image.extract_patches(\n",
        "            images=images[:1],\n",
        "            sizes=[1, PATCH_SIZE, PATCH_SIZE, 1],\n",
        "            strides=[1, PATCH_SIZE, PATCH_SIZE, 1],\n",
        "            rates=[1, 1, 1, 1],\n",
        "            padding=\"VALID\",\n",
        "        )\n",
        "\n",
        "plt.figure(figsize=(5, 5))\n",
        "\n",
        "for imgs in patches:\n",
        "    count = 0\n",
        "    for r in range(num_patches):\n",
        "        for c in range(num_patches):\n",
        "            ax = plt.subplot(num_patches, num_patches, count+1)\n",
        "            plt.imshow(tf.reshape(imgs[r,c],shape=(PATCH_SIZE,PATCH_SIZE,3)).numpy().astype(\"uint8\"))\n",
        "            plt.axis(\"off\")\n",
        "            count += 1\n",
        "\n"
      ]
    },
    {
      "cell_type": "code",
      "execution_count": 14,
      "metadata": {
        "id": "IwKb6QdIq5XC",
        "colab": {
          "base_uri": "https://localhost:8080/"
        },
        "outputId": "09bc2246-b36b-4e75-9c95-8089c12d7d40"
      },
      "outputs": [
        {
          "output_type": "stream",
          "name": "stdout",
          "text": [
            "[5 1 6 8 7 9 5 0 2 2 7 4 0 1 6 0 8 8 5 1 4 6 5 4 7 8 4 8 1 8 6 0 7 4 2 0 6\n",
            " 1 8 8 1 5 8 5 6 9 2 8 5 6 5 5 1 0 4 6 1 4 5 8 5 4 4 1] tf.Tensor(\n",
            "[7 0 6 9 5 1 7 0 3 2 7 2 7 9 6 8 8 8 7 9 4 2 3 5 0 0 2 8 1 8 2 0 7 2 0 0 9\n",
            " 1 0 5 1 5 0 3 5 0 2 0 5 3 7 4 1 4 2 5 1 5 2 0 7 2 2 1], shape=(64,), dtype=int64)\n"
          ]
        }
      ],
      "source": [
        "for image, target in ds_test.take(1):\n",
        "  y = model.predict(image)\n",
        "  print(np.argmax(y, axis=1), target)"
      ]
    }
  ],
  "metadata": {
    "kernelspec": {
      "display_name": "Python 3",
      "language": "python",
      "name": "python3"
    },
    "language_info": {
      "codemirror_mode": {
        "name": "ipython",
        "version": 3
      },
      "file_extension": ".py",
      "mimetype": "text/x-python",
      "name": "python",
      "nbconvert_exporter": "python",
      "pygments_lexer": "ipython3",
      "version": "3.7.4"
    },
    "colab": {
      "name": "Vision_Transformer_TF2.3.ipynb",
      "provenance": [],
      "include_colab_link": true
    },
    "accelerator": "GPU"
  },
  "nbformat": 4,
  "nbformat_minor": 0
}